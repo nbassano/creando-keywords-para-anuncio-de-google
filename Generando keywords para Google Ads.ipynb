{
 "cells": [
  {
   "cell_type": "code",
   "execution_count": 1,
   "id": "9dbd9385",
   "metadata": {},
   "outputs": [
    {
     "name": "stdout",
     "output_type": "stream",
     "text": [
      "['comprar', 'precio', 'descuento', 'promoción', 'promo', 'compra', 'compras', 'precios', 'sale', 'shopping']\n"
     ]
    }
   ],
   "source": [
    "# Palabras para relacionar al producto\n",
    "palabras = ['comprar', 'precio', 'descuento', 'promoción', 'promo', 'compra', \n",
    "         'compras', 'precios', 'sale', 'shopping']\n",
    "\n",
    "# Imprimir la lista de palabras\n",
    "print(palabras)"
   ]
  },
  {
   "cell_type": "code",
   "execution_count": 4,
   "id": "0654d2c1",
   "metadata": {},
   "outputs": [
    {
     "name": "stdout",
     "output_type": "stream",
     "text": [
      "[['sillones', 'sillones comprar'],\n",
      " ['sillones', 'comprar sillones'],\n",
      " ['sillones', 'sillones precio'],\n",
      " ['sillones', 'precio sillones'],\n",
      " ['sillones', 'sillones descuento'],\n",
      " ['sillones', 'descuento sillones'],\n",
      " ['sillones', 'sillones promoción'],\n",
      " ['sillones', 'promoción sillones'],\n",
      " ['sillones', 'sillones promo'],\n",
      " ['sillones', 'promo sillones'],\n",
      " ['sillones', 'sillones compra'],\n",
      " ['sillones', 'compra sillones'],\n",
      " ['sillones', 'sillones compras'],\n",
      " ['sillones', 'compras sillones'],\n",
      " ['sillones', 'sillones precios'],\n",
      " ['sillones', 'precios sillones'],\n",
      " ['sillones', 'sillones sale'],\n",
      " ['sillones', 'sale sillones'],\n",
      " ['sillones', 'sillones shopping'],\n",
      " ['sillones', 'shopping sillones'],\n",
      " ['sillon convertible', 'sillon convertible comprar'],\n",
      " ['sillon convertible', 'comprar sillon convertible'],\n",
      " ['sillon convertible', 'sillon convertible precio'],\n",
      " ['sillon convertible', 'precio sillon convertible'],\n",
      " ['sillon convertible', 'sillon convertible descuento'],\n",
      " ['sillon convertible', 'descuento sillon convertible'],\n",
      " ['sillon convertible', 'sillon convertible promoción'],\n",
      " ['sillon convertible', 'promoción sillon convertible'],\n",
      " ['sillon convertible', 'sillon convertible promo'],\n",
      " ['sillon convertible', 'promo sillon convertible'],\n",
      " ['sillon convertible', 'sillon convertible compra'],\n",
      " ['sillon convertible', 'compra sillon convertible'],\n",
      " ['sillon convertible', 'sillon convertible compras'],\n",
      " ['sillon convertible', 'compras sillon convertible'],\n",
      " ['sillon convertible', 'sillon convertible precios'],\n",
      " ['sillon convertible', 'precios sillon convertible'],\n",
      " ['sillon convertible', 'sillon convertible sale'],\n",
      " ['sillon convertible', 'sale sillon convertible'],\n",
      " ['sillon convertible', 'sillon convertible shopping'],\n",
      " ['sillon convertible', 'shopping sillon convertible'],\n",
      " ['love seats', 'love seats comprar'],\n",
      " ['love seats', 'comprar love seats'],\n",
      " ['love seats', 'love seats precio'],\n",
      " ['love seats', 'precio love seats'],\n",
      " ['love seats', 'love seats descuento'],\n",
      " ['love seats', 'descuento love seats'],\n",
      " ['love seats', 'love seats promoción'],\n",
      " ['love seats', 'promoción love seats'],\n",
      " ['love seats', 'love seats promo'],\n",
      " ['love seats', 'promo love seats'],\n",
      " ['love seats', 'love seats compra'],\n",
      " ['love seats', 'compra love seats'],\n",
      " ['love seats', 'love seats compras'],\n",
      " ['love seats', 'compras love seats'],\n",
      " ['love seats', 'love seats precios'],\n",
      " ['love seats', 'precios love seats'],\n",
      " ['love seats', 'love seats sale'],\n",
      " ['love seats', 'sale love seats'],\n",
      " ['love seats', 'love seats shopping'],\n",
      " ['love seats', 'shopping love seats'],\n",
      " ['reclinadores', 'reclinadores comprar'],\n",
      " ['reclinadores', 'comprar reclinadores'],\n",
      " ['reclinadores', 'reclinadores precio'],\n",
      " ['reclinadores', 'precio reclinadores'],\n",
      " ['reclinadores', 'reclinadores descuento'],\n",
      " ['reclinadores', 'descuento reclinadores'],\n",
      " ['reclinadores', 'reclinadores promoción'],\n",
      " ['reclinadores', 'promoción reclinadores'],\n",
      " ['reclinadores', 'reclinadores promo'],\n",
      " ['reclinadores', 'promo reclinadores'],\n",
      " ['reclinadores', 'reclinadores compra'],\n",
      " ['reclinadores', 'compra reclinadores'],\n",
      " ['reclinadores', 'reclinadores compras'],\n",
      " ['reclinadores', 'compras reclinadores'],\n",
      " ['reclinadores', 'reclinadores precios'],\n",
      " ['reclinadores', 'precios reclinadores'],\n",
      " ['reclinadores', 'reclinadores sale'],\n",
      " ['reclinadores', 'sale reclinadores'],\n",
      " ['reclinadores', 'reclinadores shopping'],\n",
      " ['reclinadores', 'shopping reclinadores'],\n",
      " ['sofa cama', 'sofa cama comprar'],\n",
      " ['sofa cama', 'comprar sofa cama'],\n",
      " ['sofa cama', 'sofa cama precio'],\n",
      " ['sofa cama', 'precio sofa cama'],\n",
      " ['sofa cama', 'sofa cama descuento'],\n",
      " ['sofa cama', 'descuento sofa cama'],\n",
      " ['sofa cama', 'sofa cama promoción'],\n",
      " ['sofa cama', 'promoción sofa cama'],\n",
      " ['sofa cama', 'sofa cama promo'],\n",
      " ['sofa cama', 'promo sofa cama'],\n",
      " ['sofa cama', 'sofa cama compra'],\n",
      " ['sofa cama', 'compra sofa cama'],\n",
      " ['sofa cama', 'sofa cama compras'],\n",
      " ['sofa cama', 'compras sofa cama'],\n",
      " ['sofa cama', 'sofa cama precios'],\n",
      " ['sofa cama', 'precios sofa cama'],\n",
      " ['sofa cama', 'sofa cama sale'],\n",
      " ['sofa cama', 'sale sofa cama'],\n",
      " ['sofa cama', 'sofa cama shopping'],\n",
      " ['sofa cama', 'shopping sofa cama']]\n"
     ]
    }
   ],
   "source": [
    "productos = ['sillones', 'sillon convertible', 'love seats', 'reclinadores', 'sofa cama']\n",
    "\n",
    "# lista vacía\n",
    "keywords_lista = []\n",
    "\n",
    "# Loop por los productos\n",
    "for producto in productos:\n",
    "    # Loop por palabras\n",
    "    for palabra in palabras:\n",
    "        # Añadir combinaciones\n",
    "        keywords_lista.append([producto, producto + ' ' + palabra])\n",
    "        keywords_lista.append([producto, palabra + ' ' + producto])\n",
    "        \n",
    "# ver lista de keywords\n",
    "from pprint import pprint\n",
    "pprint(keywords_lista)"
   ]
  },
  {
   "cell_type": "code",
   "execution_count": 5,
   "id": "21489f3b",
   "metadata": {},
   "outputs": [
    {
     "name": "stdout",
     "output_type": "stream",
     "text": [
      "          0                   1\n",
      "0  sillones    sillones comprar\n",
      "1  sillones    comprar sillones\n",
      "2  sillones     sillones precio\n",
      "3  sillones     precio sillones\n",
      "4  sillones  sillones descuento\n"
     ]
    }
   ],
   "source": [
    "import pandas as pd\n",
    "\n",
    "# Crear un DataFrame a partir de la lista\n",
    "keywords_df = pd.DataFrame.from_records(keywords_lista)\n",
    "\n",
    "# imprimir el keywords DataFrame para explorarlo\n",
    "print(keywords_df.head())"
   ]
  },
  {
   "cell_type": "code",
   "execution_count": 6,
   "id": "4c84e162",
   "metadata": {},
   "outputs": [],
   "source": [
    "# Renombramos las columnas del Dataframe\n",
    "keywords_df = keywords_df.rename(columns={0:'Ad Group', 1: 'Keyword'})\n",
    "\n",
    "# Añadimos columna extra de Campaña\n",
    "keywords_df['Campaña']='SEM_Sofas'\n"
   ]
  },
  {
   "cell_type": "code",
   "execution_count": 7,
   "id": "32dd1430",
   "metadata": {},
   "outputs": [
    {
     "name": "stdout",
     "output_type": "stream",
     "text": [
      "     Ad Group             Keyword    Campaña Tipo de criterio\n",
      "0    sillones    sillones comprar  SEM_Sofas           Exacto\n",
      "1    sillones    comprar sillones  SEM_Sofas           Exacto\n",
      "2    sillones     sillones precio  SEM_Sofas           Exacto\n",
      "3    sillones     precio sillones  SEM_Sofas           Exacto\n",
      "4    sillones  sillones descuento  SEM_Sofas           Exacto\n",
      "..        ...                 ...        ...              ...\n",
      "95  sofa cama   precios sofa cama  SEM_Sofas           Exacto\n",
      "96  sofa cama      sofa cama sale  SEM_Sofas           Exacto\n",
      "97  sofa cama      sale sofa cama  SEM_Sofas           Exacto\n",
      "98  sofa cama  sofa cama shopping  SEM_Sofas           Exacto\n",
      "99  sofa cama  shopping sofa cama  SEM_Sofas           Exacto\n",
      "\n",
      "[100 rows x 4 columns]\n"
     ]
    }
   ],
   "source": [
    "# Añadimos columna de match type 'exacto'\n",
    "keywords_df['Tipo de criterio']='Exacto'\n",
    "print(keywords_df)"
   ]
  },
  {
   "cell_type": "code",
   "execution_count": 8,
   "id": "5f68d852",
   "metadata": {},
   "outputs": [
    {
     "name": "stdout",
     "output_type": "stream",
     "text": [
      "     Ad Group             Keyword    Campaña Tipo de criterio\n",
      "0    sillones    sillones comprar  SEM_Sofas           Exacto\n",
      "1    sillones    comprar sillones  SEM_Sofas           Exacto\n",
      "2    sillones     sillones precio  SEM_Sofas           Exacto\n",
      "3    sillones     precio sillones  SEM_Sofas           Exacto\n",
      "4    sillones  sillones descuento  SEM_Sofas           Exacto\n",
      "..        ...                 ...        ...              ...\n",
      "95  sofa cama   precios sofa cama  SEM_Sofas            Frase\n",
      "96  sofa cama      sofa cama sale  SEM_Sofas            Frase\n",
      "97  sofa cama      sale sofa cama  SEM_Sofas            Frase\n",
      "98  sofa cama  sofa cama shopping  SEM_Sofas            Frase\n",
      "99  sofa cama  shopping sofa cama  SEM_Sofas            Frase\n",
      "\n",
      "[200 rows x 4 columns]\n"
     ]
    },
    {
     "name": "stderr",
     "output_type": "stream",
     "text": [
      "C:\\Users\\Administrator\\AppData\\Local\\Temp\\ipykernel_15924\\523827764.py:9: FutureWarning: The frame.append method is deprecated and will be removed from pandas in a future version. Use pandas.concat instead.\n",
      "  keywords_df_final = keywords_df.append(keywords_frase)\n"
     ]
    }
   ],
   "source": [
    "# Hacemos una copia del df para que también tenga otro criterio en el type match\n",
    "keywords_frase = keywords_df.copy()\n",
    "\n",
    "# Cambiamos el type match a frase en vez de 'exacto'\n",
    "keywords_frase['Tipo de criterio']='Frase'\n",
    "\n",
    "\n",
    "# Añadimos al df\n",
    "keywords_df_final = keywords_df.append(keywords_frase)\n",
    "print(keywords_df_final)"
   ]
  },
  {
   "cell_type": "code",
   "execution_count": 9,
   "id": "a79fd5ef",
   "metadata": {},
   "outputs": [
    {
     "name": "stdout",
     "output_type": "stream",
     "text": [
      "Ad Group            Tipo de criterio\n",
      "love seats          Exacto              20\n",
      "                    Frase               20\n",
      "reclinadores        Exacto              20\n",
      "                    Frase               20\n",
      "sillon convertible  Exacto              20\n",
      "                    Frase               20\n",
      "sillones            Exacto              20\n",
      "                    Frase               20\n",
      "sofa cama           Exacto              20\n",
      "                    Frase               20\n",
      "Name: Keyword, dtype: int64\n"
     ]
    }
   ],
   "source": [
    "# Guardamos en un csv las keywords formadas\n",
    "keywords_df_final.to_csv('keywords.csv', index = False)\n",
    "\n",
    "# imprimimos un sumario filtrado por categoría exacta o frase de nuestro trabajo por tipo de ad group\n",
    "sumario = keywords_df_final.groupby(['Ad Group', 'Tipo de criterio'])['Keyword'].count()\n",
    "print(sumario)"
   ]
  },
  {
   "cell_type": "code",
   "execution_count": null,
   "id": "614eff25",
   "metadata": {},
   "outputs": [],
   "source": []
  }
 ],
 "metadata": {
  "kernelspec": {
   "display_name": "Python 3 (ipykernel)",
   "language": "python",
   "name": "python3"
  },
  "language_info": {
   "codemirror_mode": {
    "name": "ipython",
    "version": 3
   },
   "file_extension": ".py",
   "mimetype": "text/x-python",
   "name": "python",
   "nbconvert_exporter": "python",
   "pygments_lexer": "ipython3",
   "version": "3.9.13"
  }
 },
 "nbformat": 4,
 "nbformat_minor": 5
}
